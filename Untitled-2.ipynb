{
 "cells": [
  {
   "cell_type": "code",
   "execution_count": 1,
   "metadata": {},
   "outputs": [],
   "source": [
    "import argparse\n",
    "import math\n",
    "import collections\n",
    "import numpy as np\n",
    "import Metashape\n",
    "import os\n",
    "import sys\n",
    "import exifread\n",
    "from collections import defaultdict\n",
    "from upd_micasense_pos import ret_micasense_pos\n",
    "import importlib\n",
    "import upd_micasense_pos\n",
    "import csv\n",
    "\n",
    "\n",
    "importlib.reload(upd_micasense_pos)\n",
    "from pathlib import Path"
   ]
  },
  {
   "cell_type": "code",
   "execution_count": 10,
   "metadata": {},
   "outputs": [
    {
     "ename": "AttributeError",
     "evalue": "'getset_descriptor' object has no attribute 'open'",
     "output_type": "error",
     "traceback": [
      "\u001b[1;31m---------------------------------------------------------------------------\u001b[0m",
      "\u001b[1;31mAttributeError\u001b[0m                            Traceback (most recent call last)",
      "Input \u001b[1;32mIn [10]\u001b[0m, in \u001b[0;36m<cell line: 1>\u001b[1;34m()\u001b[0m\n\u001b[1;32m----> 1\u001b[0m doc \u001b[38;5;241m=\u001b[39m \u001b[43mMetashape\u001b[49m\u001b[38;5;241;43m.\u001b[39;49m\u001b[43mApplication\u001b[49m\u001b[38;5;241;43m.\u001b[39;49m\u001b[43mdocument\u001b[49m\u001b[38;5;241;43m.\u001b[39;49m\u001b[43mopen\u001b[49m(\u001b[38;5;124mr\u001b[39m\u001b[38;5;124m\"\u001b[39m\u001b[38;5;124mM:\u001b[39m\u001b[38;5;124m\\\u001b[39m\u001b[38;5;124mworking_package_2\u001b[39m\u001b[38;5;124m\\\u001b[39m\u001b[38;5;124m2024_dronecampaign\u001b[39m\u001b[38;5;124m\\\u001b[39m\u001b[38;5;124m02_processing\u001b[39m\u001b[38;5;124m\\\u001b[39m\u001b[38;5;124mmetashape_projects\u001b[39m\u001b[38;5;124m\\\u001b[39m\u001b[38;5;124mMicasenseData\u001b[39m\u001b[38;5;124m\\\u001b[39m\u001b[38;5;124mfullset\u001b[39m\u001b[38;5;124m\\\u001b[39m\u001b[38;5;124mmetashape_project.psx\u001b[39m\u001b[38;5;124m\"\u001b[39m)\n\u001b[0;32m      2\u001b[0m doc\n",
      "\u001b[1;31mAttributeError\u001b[0m: 'getset_descriptor' object has no attribute 'open'"
     ]
    }
   ],
   "source": [
    "doc = Metashape.Application.document.open(r\"M:\\working_package_2\\2024_dronecampaign\\02_processing\\metashape_projects\\MicasenseData\\fullset\\metashape_project.psx\")\n",
    "doc"
   ]
  }
 ],
 "metadata": {
  "kernelspec": {
   "display_name": "Python 3",
   "language": "python",
   "name": "python3"
  },
  "language_info": {
   "codemirror_mode": {
    "name": "ipython",
    "version": 3
   },
   "file_extension": ".py",
   "mimetype": "text/x-python",
   "name": "python",
   "nbconvert_exporter": "python",
   "pygments_lexer": "ipython3",
   "version": "3.9.13"
  }
 },
 "nbformat": 4,
 "nbformat_minor": 2
}
