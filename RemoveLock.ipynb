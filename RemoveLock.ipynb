{
 "cells": [
  {
   "cell_type": "code",
   "execution_count": 4,
   "metadata": {},
   "outputs": [
    {
     "name": "stdout",
     "output_type": "stream",
     "text": [
      "Found lock files: ['U:\\\\working_package_2\\\\2024_dronecampaign\\\\02_processing\\\\metashape_projects\\\\Upscale_Metashapeprojects\\\\WangenBrüttisellen_treenet\\\\20240927\\\\metashape_project_WangenBrüttisellen_treenet_20240927.files\\\\lock']\n"
     ]
    }
   ],
   "source": [
    "import os\n",
    "\n",
    "def find_lock_files(directory):\n",
    "    lock_files = []\n",
    "    for root, dirs, files in os.walk(directory):\n",
    "        for file in files:\n",
    "            if file == \"lock\":\n",
    "                lock_files.append(os.path.join(root, file))\n",
    "    return lock_files\n",
    "\n",
    "# Example usage\n",
    "directory_to_search = r\"U:\\working_package_2\\2024_dronecampaign\\02_processing\\metashape_projects\\Upscale_Metashapeprojects\"\n",
    "lock_files = find_lock_files(directory_to_search)\n",
    "print(\"Found lock files:\", lock_files)"
   ]
  },
  {
   "cell_type": "code",
   "execution_count": 3,
   "metadata": {},
   "outputs": [
    {
     "name": "stdout",
     "output_type": "stream",
     "text": [
      "Deleted: U:\\working_package_2\\2024_dronecampaign\\02_processing\\metashape_projects\\Upscale_Metashapeprojects\\Illgraben\\20240925\\metashape_project_Illgraben_20240925.files\\lock\n",
      "Deleted: U:\\working_package_2\\2024_dronecampaign\\02_processing\\metashape_projects\\Upscale_Metashapeprojects\\Lens_LWF\\20240924\\metashape_project_Lens_LWF_20240924.files\\lock\n",
      "Failed to delete U:\\working_package_2\\2024_dronecampaign\\02_processing\\metashape_projects\\Upscale_Metashapeprojects\\Neunkirch_LWF\\20240927\\metashape_project_Neunkirch_LWF_20240927.files\\lock: [WinError 32] The process cannot access the file because it is being used by another process: 'U:\\\\working_package_2\\\\2024_dronecampaign\\\\02_processing\\\\metashape_projects\\\\Upscale_Metashapeprojects\\\\Neunkirch_LWF\\\\20240927\\\\metashape_project_Neunkirch_LWF_20240927.files\\\\lock'\n",
      "Deleted: U:\\working_package_2\\2024_dronecampaign\\02_processing\\metashape_projects\\Upscale_Metashapeprojects\\Pfynwald\\old\\metashape_project_Pfynwald_20240823.files\\lock\n",
      "Deleted: U:\\working_package_2\\2024_dronecampaign\\02_processing\\metashape_projects\\Upscale_Metashapeprojects\\Sagno_treenet\\20241015\\metashape_project_Sagno_treenet_20241015.files\\lock\n",
      "Deleted: U:\\working_package_2\\2024_dronecampaign\\02_processing\\metashape_projects\\Upscale_Metashapeprojects\\Salgesch_treenet\\20240924\\metashape_project_Salgesch_treenet_20240924.files\\lock\n",
      "Deleted: U:\\working_package_2\\2024_dronecampaign\\02_processing\\metashape_projects\\Upscale_Metashapeprojects\\Schänis_LWF\\20240920\\metashape_project_Schänis_LWF_20240920.files\\lock\n",
      "Deleted: U:\\working_package_2\\2024_dronecampaign\\02_processing\\metashape_projects\\Upscale_Metashapeprojects\\Sempach_treenet\\20240920\\metashape_project_Sempach_treenet_20240920.files\\lock\n",
      "Deleted: U:\\working_package_2\\2024_dronecampaign\\02_processing\\metashape_projects\\Upscale_Metashapeprojects\\Visp_LWF\\20240924\\metashape_project_Visp_LWF_20240924.files\\lock\n",
      "Deleted: U:\\working_package_2\\2024_dronecampaign\\02_processing\\metashape_projects\\Upscale_Metashapeprojects\\WangenBrüttisellen_treenet\\20240927\\metashape_project_WangenBrüttisellen_treenet_20240927.files\\lock\n"
     ]
    }
   ],
   "source": [
    "for lock_file in lock_files:\n",
    "    try:\n",
    "        os.remove(lock_file)\n",
    "        print(f\"Deleted: {lock_file}\")\n",
    "    except Exception as e:\n",
    "        print(f\"Failed to delete {lock_file}: {e}\")"
   ]
  },
  {
   "cell_type": "markdown",
   "metadata": {},
   "source": []
  }
 ],
 "metadata": {
  "kernelspec": {
   "display_name": "Python 3",
   "language": "python",
   "name": "python3"
  },
  "language_info": {
   "codemirror_mode": {
    "name": "ipython",
    "version": 3
   },
   "file_extension": ".py",
   "mimetype": "text/x-python",
   "name": "python",
   "nbconvert_exporter": "python",
   "pygments_lexer": "ipython3",
   "version": "3.13.0"
  }
 },
 "nbformat": 4,
 "nbformat_minor": 2
}
