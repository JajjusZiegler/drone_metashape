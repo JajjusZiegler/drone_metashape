{
 "cells": [
  {
   "cell_type": "code",
   "execution_count": 2,
   "metadata": {},
   "outputs": [
    {
     "name": "stdout",
     "output_type": "stream",
     "text": [
      "Found lock files: ['M:\\\\working_package_2\\\\2024_dronecampaign\\\\02_processing\\\\metashape_projects\\\\Upscale_Metashapeprojects\\\\Pfynwald\\\\20250528\\\\metashape_project_Pfynwald_20250528.files\\\\lock']\n"
     ]
    }
   ],
   "source": [
    "import os\n",
    "\n",
    "def find_lock_files(directory):\n",
    "    lock_files = []\n",
    "    for root, dirs, files in os.walk(directory):\n",
    "        for file in files:\n",
    "            if file == \"lock\":\n",
    "                lock_files.append(os.path.join(root, file))\n",
    "    return lock_files\n",
    "\n",
    "# Example usage\n",
    "directory_to_search = r\"M:\\working_package_2\\2024_dronecampaign\\02_processing\\metashape_projects\\Upscale_Metashapeprojects\"\n",
    "lock_files = find_lock_files(directory_to_search)\n",
    "print(\"Found lock files:\", lock_files)"
   ]
  },
  {
   "cell_type": "code",
   "execution_count": 2,
   "metadata": {},
   "outputs": [],
   "source": [
    "for lock_file in lock_files:\n",
    "    try:\n",
    "        os.remove(lock_file)\n",
    "        print(f\"Deleted: {lock_file}\")\n",
    "    except Exception as e:\n",
    "        print(f\"Failed to delete {lock_file}: {e}\")"
   ]
  },
  {
   "cell_type": "markdown",
   "metadata": {},
   "source": []
  }
 ],
 "metadata": {
  "kernelspec": {
   "display_name": "Python (geo)",
   "language": "python",
   "name": "geo"
  },
  "language_info": {
   "codemirror_mode": {
    "name": "ipython",
    "version": 3
   },
   "file_extension": ".py",
   "mimetype": "text/x-python",
   "name": "python",
   "nbconvert_exporter": "python",
   "pygments_lexer": "ipython3",
   "version": "3.12.7"
  }
 },
 "nbformat": 4,
 "nbformat_minor": 2
}
